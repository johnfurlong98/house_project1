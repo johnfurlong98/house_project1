{
  "cells": [
    {
      "cell_type": "markdown",
      "metadata": {
        "id": "0aStgWSO0E0E"
      },
      "source": [
        "# Housing Price Prediction Analysis"
      ]
    },
    {
      "cell_type": "markdown",
      "metadata": {
        "id": "1eLEkw5O0ECa"
      },
      "source": [
        "## Objectives\n",
        "\n",
        "* To explore and clean the housing dataset, preparing it for analysis.\n",
        "* To visualize correlations between various house attributes and sale prices.\n",
        "* To build predictive models to forecast housing prices based on selected features.\n",
        "\n",
        "## Inputs\n",
        "\n",
        "* Housing dataset sourced from [Kaggle](https://www.kaggle.com/codeinstitute/housing-prices-data).\n",
        "* Python libraries: numpy, pandas, matplotlib, seaborn, ydata-profiling, plotly, ppscore, streamlit, feature-engine, imbalanced-learn, scikit-learn, xgboost, yellowbrick, Jinja2,          MarkupSafe, protobuf, ipywidgets, altair.\n",
        "* Datasets:\n",
        "  - `house_prices_records.csv`: Contains historical housing data including various features and sale prices.\n",
        "  - `inherited_houses.csv`: Contains data for the inherited houses for which we want to predict sale prices.\n",
        "\n",
        "\n",
        "## Outputs\n",
        "\n",
        "* Write here which files, code or artefacts you generate by the end of the notebook \n",
        "\n",
        "## Additional Comments\n",
        "\n",
        "* In case you have any additional comments that don't fit in the previous bullets, please state them here. \n"
      ]
    },
    {
      "cell_type": "markdown",
      "metadata": {},
      "source": []
    },
    {
      "cell_type": "markdown",
      "metadata": {
        "id": "9uWZXH9LwoQg"
      },
      "source": [
        "---"
      ]
    },
    {
      "cell_type": "markdown",
      "metadata": {
        "id": "cqP-UeN-z3i2"
      },
      "source": [
        "# Change working directory"
      ]
    },
    {
      "cell_type": "markdown",
      "metadata": {},
      "source": [
        "* We are assuming you will store the notebooks in a subfolder, therefore when running the notebook in the editor, you will need to change the working directory"
      ]
    },
    {
      "cell_type": "markdown",
      "metadata": {
        "id": "aOGIGS-uz3i2"
      },
      "source": [
        "We need to change the working directory from its current folder to its parent folder\n",
        "* We access the current directory with os.getcwd()"
      ]
    },
    {
      "cell_type": "code",
      "execution_count": null,
      "metadata": {
        "id": "wZfF_j-Bz3i4",
        "outputId": "66943449-1436-4c3d-85c7-b85f9f78349b"
      },
      "outputs": [],
      "source": [
        "import os\n",
        "current_dir = os.getcwd()\n",
        "current_dir"
      ]
    },
    {
      "cell_type": "markdown",
      "metadata": {
        "id": "9MWW8E7lz3i7"
      },
      "source": [
        "We want to make the parent of the current directory the new current directory\n",
        "* os.path.dirname() gets the parent directory\n",
        "* os.chir() defines the new current directory"
      ]
    },
    {
      "cell_type": "code",
      "execution_count": null,
      "metadata": {
        "id": "TwHsQRWjz3i9",
        "outputId": "86849db3-cd2f-4cc5-ebb8-2d0caafa1a2c"
      },
      "outputs": [],
      "source": [
        "os.chdir(os.path.dirname(current_dir))\n",
        "print(\"You set a new current directory\")"
      ]
    },
    {
      "cell_type": "markdown",
      "metadata": {
        "id": "M_xPk_Ijz3i-"
      },
      "source": [
        "Confirm the new current directory"
      ]
    },
    {
      "cell_type": "code",
      "execution_count": null,
      "metadata": {
        "id": "vz3S-_kjz3jA",
        "outputId": "00b79ae4-75d0-4a96-d193-ac9ef9847ea2"
      },
      "outputs": [],
      "source": [
        "current_dir = os.getcwd()\n",
        "current_dir"
      ]
    },
    {
      "cell_type": "markdown",
      "metadata": {
        "id": "-mavJ8DibrcQ"
      },
      "source": [
        "# Section 1"
      ]
    },
    {
      "cell_type": "markdown",
      "metadata": {},
      "source": [
        "Section 1 content"
      ]
    },
    {
      "cell_type": "code",
      "execution_count": 4,
      "metadata": {},
      "outputs": [],
      "source": [
        "# Import necessary libraries\n",
        "import pandas as pd\n",
        "import matplotlib.pyplot as plt\n",
        "import seaborn as sns\n",
        "from sklearn.model_selection import train_test_split\n",
        "from sklearn.linear_model import LinearRegression\n",
        "import joblib"
      ]
    },
    {
      "cell_type": "markdown",
      "metadata": {
        "id": "ZY3l0-AxO93d"
      },
      "source": [
        "---"
      ]
    },
    {
      "cell_type": "markdown",
      "metadata": {
        "id": "uFQo3ycuO-v6"
      },
      "source": [
        "# Section 2"
      ]
    },
    {
      "cell_type": "markdown",
      "metadata": {},
      "source": [
        "Section 2 content"
      ]
    },
    {
      "cell_type": "code",
      "execution_count": 11,
      "metadata": {},
      "outputs": [
        {
          "name": "stdout",
          "output_type": "stream",
          "text": [
            "Inherited Houses Data:\n",
            "   1stFlrSF  2ndFlrSF  BedroomAbvGr BsmtExposure  BsmtFinSF1 BsmtFinType1  \\\n",
            "0       896         0             2           No       468.0          Rec   \n",
            "1      1329         0             3           No       923.0          ALQ   \n",
            "2       928       701             3           No       791.0          GLQ   \n",
            "3       926       678             3           No       602.0          GLQ   \n",
            "\n",
            "   BsmtUnfSF  EnclosedPorch  GarageArea GarageFinish  ...  LotArea  \\\n",
            "0      270.0              0       730.0          Unf  ...    11622   \n",
            "1      406.0              0       312.0          Unf  ...    14267   \n",
            "2      137.0              0       482.0          Fin  ...    13830   \n",
            "3      324.0              0       470.0          Fin  ...     9978   \n",
            "\n",
            "   LotFrontage MasVnrArea  OpenPorchSF  OverallCond  OverallQual  TotalBsmtSF  \\\n",
            "0         80.0        0.0            0            6            5        882.0   \n",
            "1         81.0      108.0           36            6            6       1329.0   \n",
            "2         74.0        0.0           34            5            5        928.0   \n",
            "3         78.0       20.0           36            6            6        926.0   \n",
            "\n",
            "   WoodDeckSF  YearBuilt  YearRemodAdd  \n",
            "0         140       1961          1961  \n",
            "1         393       1958          1958  \n",
            "2         212       1997          1998  \n",
            "3         360       1998          1998  \n",
            "\n",
            "[4 rows x 23 columns]\n",
            "\n",
            "House Prices Records Data:\n",
            "   1stFlrSF  2ndFlrSF  BedroomAbvGr BsmtExposure  BsmtFinSF1 BsmtFinType1  \\\n",
            "0       856     854.0           3.0           No         706          GLQ   \n",
            "1      1262       0.0           3.0           Gd         978          ALQ   \n",
            "2       920     866.0           3.0           Mn         486          GLQ   \n",
            "3       961       NaN           NaN           No         216          ALQ   \n",
            "4      1145       NaN           4.0           Av         655          GLQ   \n",
            "\n",
            "   BsmtUnfSF  EnclosedPorch  GarageArea GarageFinish  ...  LotFrontage  \\\n",
            "0        150            0.0         548          RFn  ...         65.0   \n",
            "1        284            NaN         460          RFn  ...         80.0   \n",
            "2        434            0.0         608          RFn  ...         68.0   \n",
            "3        540            NaN         642          Unf  ...         60.0   \n",
            "4        490            0.0         836          RFn  ...         84.0   \n",
            "\n",
            "   MasVnrArea OpenPorchSF  OverallCond  OverallQual  TotalBsmtSF  WoodDeckSF  \\\n",
            "0       196.0          61            5            7          856         0.0   \n",
            "1         0.0           0            8            6         1262         NaN   \n",
            "2       162.0          42            5            7          920         NaN   \n",
            "3         0.0          35            5            7          756         NaN   \n",
            "4       350.0          84            5            8         1145         NaN   \n",
            "\n",
            "   YearBuilt  YearRemodAdd  SalePrice  \n",
            "0       2003          2003     208500  \n",
            "1       1976          1976     181500  \n",
            "2       2001          2002     223500  \n",
            "3       1915          1970     140000  \n",
            "4       2000          2000     250000  \n",
            "\n",
            "[5 rows x 24 columns]\n"
          ]
        }
      ],
      "source": [
        "import pandas as pd\n",
        "\n",
        "# Load the datasets\n",
        "inherited_houses_path = '/workspace/house_project1/data/inherited_houses.csv'\n",
        "house_prices_records_path = '/workspace/house_project1/data/house_prices_records.csv'\n",
        "\n",
        "inherited_houses_df = pd.read_csv(inherited_houses_path)\n",
        "house_prices_df = pd.read_csv(house_prices_records_path)\n",
        "\n",
        "# Display the first few rows of each dataset\n",
        "print(\"Inherited Houses Data:\")\n",
        "print(inherited_houses_df.head())\n",
        "\n",
        "print(\"\\nHouse Prices Records Data:\")\n",
        "print(house_prices_df.head())\n"
      ]
    },
    {
      "cell_type": "code",
      "execution_count": null,
      "metadata": {},
      "outputs": [],
      "source": []
    },
    {
      "cell_type": "markdown",
      "metadata": {},
      "source": [
        "---"
      ]
    },
    {
      "cell_type": "markdown",
      "metadata": {},
      "source": [
        "NOTE"
      ]
    },
    {
      "cell_type": "markdown",
      "metadata": {},
      "source": [
        "* You may add as many sections as you want, as long as they support your project workflow.\n",
        "* All notebook's cells should be run top-down (you can't create a dynamic wherein a given point you need to go back to a previous cell to execute some task, like go back to a previous cell and refresh a variable content)"
      ]
    },
    {
      "cell_type": "markdown",
      "metadata": {},
      "source": [
        "---"
      ]
    },
    {
      "cell_type": "markdown",
      "metadata": {
        "id": "ltNetd085qHf"
      },
      "source": [
        "# Push files to Repo"
      ]
    },
    {
      "cell_type": "markdown",
      "metadata": {},
      "source": [
        "* If you do not need to push files to Repo, you may replace this section with \"Conclusions and Next Steps\" and state your conclusions and next steps."
      ]
    },
    {
      "cell_type": "code",
      "execution_count": null,
      "metadata": {
        "id": "aKlnIozA4eQO",
        "outputId": "fd09bc1f-adb1-4511-f6ce-492a6af570c0"
      },
      "outputs": [],
      "source": [
        "import os\n",
        "try:\n",
        "  # create here your folder\n",
        "  # os.makedirs(name='')\n",
        "except Exception as e:\n",
        "  print(e)\n"
      ]
    }
  ],
  "metadata": {
    "accelerator": "GPU",
    "colab": {
      "name": "Data Practitioner Jupyter Notebook.ipynb",
      "provenance": [],
      "toc_visible": true
    },
    "interpreter": {
      "hash": "8b8334dab9339717f727a1deaf837b322d7a41c20d15cc86be99a8e69ceec8ce"
    },
    "kernelspec": {
      "display_name": "Python 3.8.12 64-bit ('3.8.12': pyenv)",
      "name": "python3"
    },
    "language_info": {
      "codemirror_mode": {
        "name": "ipython",
        "version": 3
      },
      "file_extension": ".py",
      "mimetype": "text/x-python",
      "name": "python",
      "nbconvert_exporter": "python",
      "pygments_lexer": "ipython3",
      "version": "3.8.18"
    },
    "orig_nbformat": 2
  },
  "nbformat": 4,
  "nbformat_minor": 2
}
